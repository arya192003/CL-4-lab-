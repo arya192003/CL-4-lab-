{
 "cells": [
  {
   "cell_type": "code",
   "execution_count": 1,
   "id": "149eca84-70de-470c-90bb-a88f4ea24ad8",
   "metadata": {},
   "outputs": [
    {
     "name": "stdout",
     "output_type": "stream",
     "text": [
      "Downloading data from https://storage.googleapis.com/tensorflow/tf-keras-datasets/imdb.npz\n",
      "\u001b[1m17464789/17464789\u001b[0m \u001b[32m━━━━━━━━━━━━━━━━━━━━\u001b[0m\u001b[37m\u001b[0m \u001b[1m27s\u001b[0m 2us/step\n"
     ]
    },
    {
     "name": "stderr",
     "output_type": "stream",
     "text": [
      "C:\\Users\\Shree\\AppData\\Roaming\\Python\\Python312\\site-packages\\keras\\src\\layers\\core\\embedding.py:90: UserWarning: Argument `input_length` is deprecated. Just remove it.\n",
      "  warnings.warn(\n"
     ]
    },
    {
     "name": "stdout",
     "output_type": "stream",
     "text": [
      "Epoch 1/5\n",
      "\u001b[1m782/782\u001b[0m \u001b[32m━━━━━━━━━━━━━━━━━━━━\u001b[0m\u001b[37m\u001b[0m \u001b[1m182s\u001b[0m 210ms/step - accuracy: 0.7183 - loss: 0.5370 - val_accuracy: 0.8367 - val_loss: 0.3770\n",
      "Epoch 2/5\n",
      "\u001b[1m782/782\u001b[0m \u001b[32m━━━━━━━━━━━━━━━━━━━━\u001b[0m\u001b[37m\u001b[0m \u001b[1m164s\u001b[0m 209ms/step - accuracy: 0.8693 - loss: 0.3240 - val_accuracy: 0.8428 - val_loss: 0.3602\n",
      "Epoch 3/5\n",
      "\u001b[1m782/782\u001b[0m \u001b[32m━━━━━━━━━━━━━━━━━━━━\u001b[0m\u001b[37m\u001b[0m \u001b[1m138s\u001b[0m 177ms/step - accuracy: 0.9028 - loss: 0.2525 - val_accuracy: 0.8456 - val_loss: 0.3640\n",
      "Epoch 4/5\n",
      "\u001b[1m782/782\u001b[0m \u001b[32m━━━━━━━━━━━━━━━━━━━━\u001b[0m\u001b[37m\u001b[0m \u001b[1m93s\u001b[0m 118ms/step - accuracy: 0.9236 - loss: 0.2030 - val_accuracy: 0.8291 - val_loss: 0.4067\n",
      "Epoch 5/5\n",
      "\u001b[1m782/782\u001b[0m \u001b[32m━━━━━━━━━━━━━━━━━━━━\u001b[0m\u001b[37m\u001b[0m \u001b[1m115s\u001b[0m 147ms/step - accuracy: 0.9436 - loss: 0.1526 - val_accuracy: 0.8417 - val_loss: 0.4420\n",
      "\u001b[1m782/782\u001b[0m \u001b[32m━━━━━━━━━━━━━━━━━━━━\u001b[0m\u001b[37m\u001b[0m \u001b[1m22s\u001b[0m 28ms/step - accuracy: 0.8399 - loss: 0.4496\n",
      "Test Loss: 0.44202712178230286\n",
      "Test Accuracy: 0.8417199850082397\n",
      "\u001b[1m1/1\u001b[0m \u001b[32m━━━━━━━━━━━━━━━━━━━━\u001b[0m\u001b[37m\u001b[0m \u001b[1m1s\u001b[0m 1s/step\n",
      "Predicted Sentiment: Negative\n"
     ]
    }
   ],
   "source": [
    "import tensorflow as tf\n",
    "from tensorflow.keras.datasets import imdb\n",
    "from tensorflow.keras.models import Sequential\n",
    "from tensorflow.keras.layers import Embedding, LSTM, Dense, Dropout\n",
    "from tensorflow.keras.preprocessing.sequence import pad_sequences\n",
    "\n",
    "# Set hyperparameters\n",
    "max_features = 10000  # Number of words to consider as features\n",
    "maxlen = 100  # Cut texts after this number of words (padding to this length)\n",
    "batch_size = 32\n",
    "embedding_dim = 128\n",
    "\n",
    "# Load IMDb dataset\n",
    "(x_train, y_train), (x_test, y_test) = imdb.load_data(num_words=max_features)\n",
    "\n",
    "# Pad sequences to ensure consistent input size\n",
    "x_train = pad_sequences(x_train, maxlen=maxlen)\n",
    "x_test = pad_sequences(x_test, maxlen=maxlen)\n",
    "\n",
    "# Build LSTM Model\n",
    "model = Sequential([\n",
    "    Embedding(input_dim=max_features, output_dim=embedding_dim, input_length=maxlen),\n",
    "    LSTM(64, dropout=0.2, recurrent_dropout=0.2),\n",
    "    Dense(1, activation='sigmoid')  # Binary classification (positive/negative sentiment)\n",
    "])\n",
    "\n",
    "# Compile Model\n",
    "model.compile(loss='binary_crossentropy', optimizer='adam', metrics=['accuracy'])\n",
    "\n",
    "# Train Model\n",
    "model.fit(x_train, y_train, batch_size=batch_size, epochs=5, validation_data=(x_test, y_test))\n",
    "\n",
    "# Evaluate Model\n",
    "score, acc = model.evaluate(x_test, y_test, batch_size=batch_size)\n",
    "print(f\"Test Loss: {score}\")\n",
    "print(f\"Test Accuracy: {acc}\")\n",
    "\n",
    "# Predict Sentiment on a Sample Review\n",
    "sample_review = \"The movie was absolutely terrible! The performances were disappointing.\"\n",
    "\n",
    "# Convert review to IMDb format (tokenized)\n",
    "from tensorflow.keras.preprocessing.text import Tokenizer\n",
    "\n",
    "tokenizer = Tokenizer(num_words=max_features)\n",
    "tokenizer.fit_on_texts([\"\"])  # Empty fit just to instantiate\n",
    "\n",
    "# Tokenize and pad sample review\n",
    "sample_seq = tokenizer.texts_to_sequences([sample_review])\n",
    "sample_seq_padded = pad_sequences(sample_seq, maxlen=maxlen)\n",
    "\n",
    "# Predict Sentiment\n",
    "prediction = model.predict(sample_seq_padded)\n",
    "print(\"Predicted Sentiment: Positive\" if prediction[0][0] > 0.5 else \"Predicted Sentiment: Negative\")"
   ]
  },
  {
   "cell_type": "code",
   "execution_count": null,
   "id": "9156b0d0-9a70-47bc-a9ae-0dbbbc70ed95",
   "metadata": {},
   "outputs": [],
   "source": []
  }
 ],
 "metadata": {
  "kernelspec": {
   "display_name": "Python 3 (ipykernel)",
   "language": "python",
   "name": "python3"
  },
  "language_info": {
   "codemirror_mode": {
    "name": "ipython",
    "version": 3
   },
   "file_extension": ".py",
   "mimetype": "text/x-python",
   "name": "python",
   "nbconvert_exporter": "python",
   "pygments_lexer": "ipython3",
   "version": "3.12.4"
  }
 },
 "nbformat": 4,
 "nbformat_minor": 5
}
